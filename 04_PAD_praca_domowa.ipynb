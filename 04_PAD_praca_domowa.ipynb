{
  "nbformat": 4,
  "nbformat_minor": 0,
  "metadata": {
    "colab": {
      "provenance": []
    },
    "kernelspec": {
      "name": "python3",
      "display_name": "Python 3"
    },
    "language_info": {
      "name": "python"
    }
  },
  "cells": [
    {
      "cell_type": "markdown",
      "source": [
        "Zadanie 1 (5 pkt)\n",
        "\n",
        "\n",
        "Wgraj zawartość pliku orders.csv do ramki danych.\n",
        "Przyjrzyj się danym, wykorzystując poznane metody (describe, info, head) zanalizuj dane.\n",
        "\n",
        "Następnie:\n",
        "\n",
        "\n",
        "\n",
        "1. Zamień order_date na format daty. Upewnij się, że w rezultacie data będzie w formacie: rok-miesiąc-dzień;\n",
        "2. Sprawdź ile i jakie unikalne wartości znajdują się w kolumnie T-shirt category;\n",
        "3. Wyczyść kolumnę tshirt_category normalizując nazwy produktów. Upewnij się, że dla każdej kategorii funkcjonuje jedna nazwa, np. zamiast white i wh jest tylko jedna wersja white. Skorzystaj z klasy string i metody apply;\n",
        "4. Rozdziel kolumnę tshirt category na 3 kolumny: tshirt_type, która będzie mówiła o tym czy jest to koszulka, bluza czy coś innego, tshirt_size, która będzie informowała o rozmiarze koszulki, i tshirt_colour, która będzie informowała o kolorze. Skorzystaj z metody apply.\n",
        "5. Znajdź zamówienia złożone między 31 grudnia 2014 a 2 sierpnia 2016.\n"
      ],
      "metadata": {
        "id": "6s5atoa1swg0"
      }
    },
    {
      "cell_type": "code",
      "execution_count": 27,
      "metadata": {
        "id": "Ktake9Iqsl1O",
        "colab": {
          "base_uri": "https://localhost:8080/"
        },
        "outputId": "0e9781a7-90d6-459b-e97e-795da571c40d"
      },
      "outputs": [
        {
          "output_type": "stream",
          "name": "stdout",
          "text": [
            "<class 'pandas.core.frame.DataFrame'>\n",
            "RangeIndex: 26552 entries, 0 to 26551\n",
            "Data columns (total 7 columns):\n",
            " #   Column           Non-Null Count  Dtype  \n",
            "---  ------           --------------  -----  \n",
            " 0   order_date       26552 non-null  object \n",
            " 1   pages_visited    26552 non-null  int64  \n",
            " 2   order_id         26552 non-null  object \n",
            " 3   customer_id      26552 non-null  object \n",
            " 4   tshirt_category  26552 non-null  object \n",
            " 5   tshirt_price     26552 non-null  float64\n",
            " 6   tshirt_quantity  26552 non-null  int64  \n",
            "dtypes: float64(1), int64(2), object(4)\n",
            "memory usage: 1.4+ MB\n"
          ]
        }
      ],
      "source": [
        "import pandas as pd\n",
        "import numpy as numpy\n",
        "\n",
        "df = pd.read_csv('orders.csv')\n",
        "\n",
        "df.head()\n",
        "#df.describe()\n",
        "df.info()\n",
        "#df.isna().any()"
      ]
    },
    {
      "cell_type": "code",
      "source": [
        "#1\n",
        "df['order_date'] = pd.to_datetime(df['order_date'], format = '%Y/%m/%d')\n",
        "print(df['order_date'].head())\n"
      ],
      "metadata": {
        "colab": {
          "base_uri": "https://localhost:8080/"
        },
        "id": "FpyQYEndDQIL",
        "outputId": "76367b34-59f6-41f7-da6e-af0c0f3ae962"
      },
      "execution_count": 28,
      "outputs": [
        {
          "output_type": "stream",
          "name": "stdout",
          "text": [
            "0   2016-09-04\n",
            "1   2014-11-14\n",
            "2   2017-02-26\n",
            "3   2013-12-01\n",
            "4   2015-10-22\n",
            "Name: order_date, dtype: datetime64[ns]\n"
          ]
        }
      ]
    },
    {
      "cell_type": "code",
      "source": [
        "#2\n",
        "print(df['tshirt_category'].unique())\n",
        "print(df['tshirt_category'].unique().size)"
      ],
      "metadata": {
        "colab": {
          "base_uri": "https://localhost:8080/"
        },
        "id": "HocUtFn6H4IQ",
        "outputId": "33148be7-696e-47cc-d538-f3208be0b670"
      },
      "execution_count": 29,
      "outputs": [
        {
          "output_type": "stream",
          "name": "stdout",
          "text": [
            "['White T-Shirt M' 'White T-Shirt F' 'Wh Tshirt F' 'Black T-Shirt F'\n",
            " 'Hoodie' 'Black T-Shirt M' 'Tennis Shirt' 'Wh Tshirt M' 'Bl Tshirt F'\n",
            " 'Bl Tshirt M']\n",
            "10\n"
          ]
        }
      ]
    },
    {
      "cell_type": "code",
      "source": [
        "#3\n",
        "rep_dict = {'Wh Tshirt M': 'White T-Shirt M', 'Wh Tshirt F': 'White T-Shirt F', 'Bl Tshirt M': 'Black T-Shirt M',  'Bl Tshirt F': 'Black T-Shirt F'}\n",
        "\n",
        "df['tshirt_category'] = df['tshirt_category'].apply(lambda x: x.replace(\"Wh \", \"White \"))\n",
        "df['tshirt_category'] = df['tshirt_category'].apply(lambda x: x.replace(\"Bl \", \"Black \"))\n",
        "df['tshirt_category'] = df['tshirt_category'].apply(lambda x: x.replace(\"Tshirt\", \"T-Shirt\"))\n",
        "#df['tshirt_category'].replace(rep_dict, inplace=True)\n",
        "\n",
        "print(df['tshirt_category'].unique())"
      ],
      "metadata": {
        "colab": {
          "base_uri": "https://localhost:8080/"
        },
        "id": "liwiV862RBsf",
        "outputId": "cbf8715d-29fd-46dd-ece9-a17712fa8f41"
      },
      "execution_count": 30,
      "outputs": [
        {
          "output_type": "stream",
          "name": "stdout",
          "text": [
            "['White T-Shirt M' 'White T-Shirt F' 'Black T-Shirt F' 'Hoodie'\n",
            " 'Black T-Shirt M' 'Tennis Shirt']\n"
          ]
        }
      ]
    },
    {
      "cell_type": "code",
      "source": [
        "#4\n",
        "df['tshirt_category'].str.split()\n",
        "\n",
        "df['tshirt_type'] = df['tshirt_category'].apply(lambda x: \"Hoodie\" if (x == \"Hoodie\") else \"Tennis Shirt\" if(x == \"Tennis Shirt\") else \"T-shirt\")\n",
        "df['tshirt_colour'] = df['tshirt_category'].apply(lambda x: x.split()[0] if (x != \"Hoodie\" and x != \"Tennis Shirt\") else numpy.nan)\n",
        "df['tshirt_size'] = df['tshirt_category'].apply(lambda x: x.split()[2] if (x != \"Hoodie\" and x != \"Tennis Shirt\") else numpy.nan)\n",
        "\n",
        "df.sample(10)"
      ],
      "metadata": {
        "id": "XVrf7tFCcJxQ",
        "colab": {
          "base_uri": "https://localhost:8080/",
          "height": 363
        },
        "outputId": "acc851c1-312c-4797-8e41-98461fbd1f37"
      },
      "execution_count": 39,
      "outputs": [
        {
          "output_type": "execute_result",
          "data": {
            "text/plain": [
              "      order_date  pages_visited         order_id customer_id  tshirt_category  \\\n",
              "8692  2014-05-23              9  HTS-767129-0002      767129  White T-Shirt M   \n",
              "9759  2015-03-26             13  HTS-030293-0002      030293  White T-Shirt M   \n",
              "7759  2013-10-29             13  HTS-576992-0001      576992  White T-Shirt M   \n",
              "22251 2015-01-04             10  HTS-847180-0002      847180  Black T-Shirt M   \n",
              "10891 2014-09-19              7  HTS-351408-0003      351408  White T-Shirt M   \n",
              "25183 2016-08-03             11  HTS-n9dwa0-0001      n9dwa0           Hoodie   \n",
              "14636 2013-06-29              6  HTS-940775-0001      940775           Hoodie   \n",
              "24056 2016-10-16              8  HTS-vxntwj-0004      vxntwj  White T-Shirt M   \n",
              "671   2015-04-07             13  HTS-906624-0001      906624     Tennis Shirt   \n",
              "16741 2015-10-03              9  HTS-dhtssh-0001      dhtssh  White T-Shirt M   \n",
              "\n",
              "       tshirt_price  tshirt_quantity   tshirt_type tshirt_colour tshirt_size  \n",
              "8692           20.0                4       T-shirt         White           M  \n",
              "9759           20.0                3       T-shirt         White           M  \n",
              "7759           20.0                1       T-shirt         White           M  \n",
              "22251          19.0                3       T-shirt         Black           M  \n",
              "10891          20.0                7       T-shirt         White           M  \n",
              "25183          23.0                1        Hoodie           NaN         NaN  \n",
              "14636          23.0                3        Hoodie           NaN         NaN  \n",
              "24056          20.0                4       T-shirt         White           M  \n",
              "671            24.0                1  Tennis Shirt           NaN         NaN  \n",
              "16741          20.0                2       T-shirt         White           M  "
            ],
            "text/html": [
              "\n",
              "  <div id=\"df-81604296-5244-4513-b9c4-5fc8b6484fa5\">\n",
              "    <div class=\"colab-df-container\">\n",
              "      <div>\n",
              "<style scoped>\n",
              "    .dataframe tbody tr th:only-of-type {\n",
              "        vertical-align: middle;\n",
              "    }\n",
              "\n",
              "    .dataframe tbody tr th {\n",
              "        vertical-align: top;\n",
              "    }\n",
              "\n",
              "    .dataframe thead th {\n",
              "        text-align: right;\n",
              "    }\n",
              "</style>\n",
              "<table border=\"1\" class=\"dataframe\">\n",
              "  <thead>\n",
              "    <tr style=\"text-align: right;\">\n",
              "      <th></th>\n",
              "      <th>order_date</th>\n",
              "      <th>pages_visited</th>\n",
              "      <th>order_id</th>\n",
              "      <th>customer_id</th>\n",
              "      <th>tshirt_category</th>\n",
              "      <th>tshirt_price</th>\n",
              "      <th>tshirt_quantity</th>\n",
              "      <th>tshirt_type</th>\n",
              "      <th>tshirt_colour</th>\n",
              "      <th>tshirt_size</th>\n",
              "    </tr>\n",
              "  </thead>\n",
              "  <tbody>\n",
              "    <tr>\n",
              "      <th>8692</th>\n",
              "      <td>2014-05-23</td>\n",
              "      <td>9</td>\n",
              "      <td>HTS-767129-0002</td>\n",
              "      <td>767129</td>\n",
              "      <td>White T-Shirt M</td>\n",
              "      <td>20.0</td>\n",
              "      <td>4</td>\n",
              "      <td>T-shirt</td>\n",
              "      <td>White</td>\n",
              "      <td>M</td>\n",
              "    </tr>\n",
              "    <tr>\n",
              "      <th>9759</th>\n",
              "      <td>2015-03-26</td>\n",
              "      <td>13</td>\n",
              "      <td>HTS-030293-0002</td>\n",
              "      <td>030293</td>\n",
              "      <td>White T-Shirt M</td>\n",
              "      <td>20.0</td>\n",
              "      <td>3</td>\n",
              "      <td>T-shirt</td>\n",
              "      <td>White</td>\n",
              "      <td>M</td>\n",
              "    </tr>\n",
              "    <tr>\n",
              "      <th>7759</th>\n",
              "      <td>2013-10-29</td>\n",
              "      <td>13</td>\n",
              "      <td>HTS-576992-0001</td>\n",
              "      <td>576992</td>\n",
              "      <td>White T-Shirt M</td>\n",
              "      <td>20.0</td>\n",
              "      <td>1</td>\n",
              "      <td>T-shirt</td>\n",
              "      <td>White</td>\n",
              "      <td>M</td>\n",
              "    </tr>\n",
              "    <tr>\n",
              "      <th>22251</th>\n",
              "      <td>2015-01-04</td>\n",
              "      <td>10</td>\n",
              "      <td>HTS-847180-0002</td>\n",
              "      <td>847180</td>\n",
              "      <td>Black T-Shirt M</td>\n",
              "      <td>19.0</td>\n",
              "      <td>3</td>\n",
              "      <td>T-shirt</td>\n",
              "      <td>Black</td>\n",
              "      <td>M</td>\n",
              "    </tr>\n",
              "    <tr>\n",
              "      <th>10891</th>\n",
              "      <td>2014-09-19</td>\n",
              "      <td>7</td>\n",
              "      <td>HTS-351408-0003</td>\n",
              "      <td>351408</td>\n",
              "      <td>White T-Shirt M</td>\n",
              "      <td>20.0</td>\n",
              "      <td>7</td>\n",
              "      <td>T-shirt</td>\n",
              "      <td>White</td>\n",
              "      <td>M</td>\n",
              "    </tr>\n",
              "    <tr>\n",
              "      <th>25183</th>\n",
              "      <td>2016-08-03</td>\n",
              "      <td>11</td>\n",
              "      <td>HTS-n9dwa0-0001</td>\n",
              "      <td>n9dwa0</td>\n",
              "      <td>Hoodie</td>\n",
              "      <td>23.0</td>\n",
              "      <td>1</td>\n",
              "      <td>Hoodie</td>\n",
              "      <td>NaN</td>\n",
              "      <td>NaN</td>\n",
              "    </tr>\n",
              "    <tr>\n",
              "      <th>14636</th>\n",
              "      <td>2013-06-29</td>\n",
              "      <td>6</td>\n",
              "      <td>HTS-940775-0001</td>\n",
              "      <td>940775</td>\n",
              "      <td>Hoodie</td>\n",
              "      <td>23.0</td>\n",
              "      <td>3</td>\n",
              "      <td>Hoodie</td>\n",
              "      <td>NaN</td>\n",
              "      <td>NaN</td>\n",
              "    </tr>\n",
              "    <tr>\n",
              "      <th>24056</th>\n",
              "      <td>2016-10-16</td>\n",
              "      <td>8</td>\n",
              "      <td>HTS-vxntwj-0004</td>\n",
              "      <td>vxntwj</td>\n",
              "      <td>White T-Shirt M</td>\n",
              "      <td>20.0</td>\n",
              "      <td>4</td>\n",
              "      <td>T-shirt</td>\n",
              "      <td>White</td>\n",
              "      <td>M</td>\n",
              "    </tr>\n",
              "    <tr>\n",
              "      <th>671</th>\n",
              "      <td>2015-04-07</td>\n",
              "      <td>13</td>\n",
              "      <td>HTS-906624-0001</td>\n",
              "      <td>906624</td>\n",
              "      <td>Tennis Shirt</td>\n",
              "      <td>24.0</td>\n",
              "      <td>1</td>\n",
              "      <td>Tennis Shirt</td>\n",
              "      <td>NaN</td>\n",
              "      <td>NaN</td>\n",
              "    </tr>\n",
              "    <tr>\n",
              "      <th>16741</th>\n",
              "      <td>2015-10-03</td>\n",
              "      <td>9</td>\n",
              "      <td>HTS-dhtssh-0001</td>\n",
              "      <td>dhtssh</td>\n",
              "      <td>White T-Shirt M</td>\n",
              "      <td>20.0</td>\n",
              "      <td>2</td>\n",
              "      <td>T-shirt</td>\n",
              "      <td>White</td>\n",
              "      <td>M</td>\n",
              "    </tr>\n",
              "  </tbody>\n",
              "</table>\n",
              "</div>\n",
              "      <button class=\"colab-df-convert\" onclick=\"convertToInteractive('df-81604296-5244-4513-b9c4-5fc8b6484fa5')\"\n",
              "              title=\"Convert this dataframe to an interactive table.\"\n",
              "              style=\"display:none;\">\n",
              "        \n",
              "  <svg xmlns=\"http://www.w3.org/2000/svg\" height=\"24px\"viewBox=\"0 0 24 24\"\n",
              "       width=\"24px\">\n",
              "    <path d=\"M0 0h24v24H0V0z\" fill=\"none\"/>\n",
              "    <path d=\"M18.56 5.44l.94 2.06.94-2.06 2.06-.94-2.06-.94-.94-2.06-.94 2.06-2.06.94zm-11 1L8.5 8.5l.94-2.06 2.06-.94-2.06-.94L8.5 2.5l-.94 2.06-2.06.94zm10 10l.94 2.06.94-2.06 2.06-.94-2.06-.94-.94-2.06-.94 2.06-2.06.94z\"/><path d=\"M17.41 7.96l-1.37-1.37c-.4-.4-.92-.59-1.43-.59-.52 0-1.04.2-1.43.59L10.3 9.45l-7.72 7.72c-.78.78-.78 2.05 0 2.83L4 21.41c.39.39.9.59 1.41.59.51 0 1.02-.2 1.41-.59l7.78-7.78 2.81-2.81c.8-.78.8-2.07 0-2.86zM5.41 20L4 18.59l7.72-7.72 1.47 1.35L5.41 20z\"/>\n",
              "  </svg>\n",
              "      </button>\n",
              "      \n",
              "  <style>\n",
              "    .colab-df-container {\n",
              "      display:flex;\n",
              "      flex-wrap:wrap;\n",
              "      gap: 12px;\n",
              "    }\n",
              "\n",
              "    .colab-df-convert {\n",
              "      background-color: #E8F0FE;\n",
              "      border: none;\n",
              "      border-radius: 50%;\n",
              "      cursor: pointer;\n",
              "      display: none;\n",
              "      fill: #1967D2;\n",
              "      height: 32px;\n",
              "      padding: 0 0 0 0;\n",
              "      width: 32px;\n",
              "    }\n",
              "\n",
              "    .colab-df-convert:hover {\n",
              "      background-color: #E2EBFA;\n",
              "      box-shadow: 0px 1px 2px rgba(60, 64, 67, 0.3), 0px 1px 3px 1px rgba(60, 64, 67, 0.15);\n",
              "      fill: #174EA6;\n",
              "    }\n",
              "\n",
              "    [theme=dark] .colab-df-convert {\n",
              "      background-color: #3B4455;\n",
              "      fill: #D2E3FC;\n",
              "    }\n",
              "\n",
              "    [theme=dark] .colab-df-convert:hover {\n",
              "      background-color: #434B5C;\n",
              "      box-shadow: 0px 1px 3px 1px rgba(0, 0, 0, 0.15);\n",
              "      filter: drop-shadow(0px 1px 2px rgba(0, 0, 0, 0.3));\n",
              "      fill: #FFFFFF;\n",
              "    }\n",
              "  </style>\n",
              "\n",
              "      <script>\n",
              "        const buttonEl =\n",
              "          document.querySelector('#df-81604296-5244-4513-b9c4-5fc8b6484fa5 button.colab-df-convert');\n",
              "        buttonEl.style.display =\n",
              "          google.colab.kernel.accessAllowed ? 'block' : 'none';\n",
              "\n",
              "        async function convertToInteractive(key) {\n",
              "          const element = document.querySelector('#df-81604296-5244-4513-b9c4-5fc8b6484fa5');\n",
              "          const dataTable =\n",
              "            await google.colab.kernel.invokeFunction('convertToInteractive',\n",
              "                                                     [key], {});\n",
              "          if (!dataTable) return;\n",
              "\n",
              "          const docLinkHtml = 'Like what you see? Visit the ' +\n",
              "            '<a target=\"_blank\" href=https://colab.research.google.com/notebooks/data_table.ipynb>data table notebook</a>'\n",
              "            + ' to learn more about interactive tables.';\n",
              "          element.innerHTML = '';\n",
              "          dataTable['output_type'] = 'display_data';\n",
              "          await google.colab.output.renderOutput(dataTable, element);\n",
              "          const docLink = document.createElement('div');\n",
              "          docLink.innerHTML = docLinkHtml;\n",
              "          element.appendChild(docLink);\n",
              "        }\n",
              "      </script>\n",
              "    </div>\n",
              "  </div>\n",
              "  "
            ]
          },
          "metadata": {},
          "execution_count": 39
        }
      ]
    },
    {
      "cell_type": "code",
      "source": [
        "#5\n",
        "mask = (df['order_date'] > \"2014-12-31\") & (df['order_date'] <= \"2016-8-2\")\n",
        "print(df.loc[mask])"
      ],
      "metadata": {
        "colab": {
          "base_uri": "https://localhost:8080/"
        },
        "id": "3hXfcr5Cy4Ml",
        "outputId": "235c78c2-2178-42c4-d89c-30a1afcc7d5a"
      },
      "execution_count": 41,
      "outputs": [
        {
          "output_type": "stream",
          "name": "stdout",
          "text": [
            "      order_date  pages_visited         order_id customer_id  tshirt_category  \\\n",
            "4     2015-10-22             12  HTS-88ua9r-0001      88ua9r  White T-Shirt M   \n",
            "5     2016-01-15              9  HTS-061311-0003      061311  Black T-Shirt F   \n",
            "12    2015-11-24             15  HTS-je57lh-0001      je57lh           Hoodie   \n",
            "13    2015-10-10              8  HTS-252675-0002      252675  White T-Shirt M   \n",
            "15    2015-11-29             15  HTS-heb26i-0001      heb26i  Black T-Shirt F   \n",
            "...          ...            ...              ...         ...              ...   \n",
            "26496 2016-06-02              2  HTS-5b4bg6-0001      5b4bg6  Black T-Shirt F   \n",
            "26513 2016-07-05             12  HTS-bt08zd-0001      bt08zd  White T-Shirt F   \n",
            "26515 2016-07-27             17  HTS-gsc3f6-0001      gsc3f6           Hoodie   \n",
            "26540 2016-06-08              7  HTS-6ba0i0-0001      6ba0i0  White T-Shirt M   \n",
            "26548 2016-08-02              4  HTS-q0nm12-0001      q0nm12  White T-Shirt M   \n",
            "\n",
            "       tshirt_price  tshirt_quantity tshirt_type tshirt_colour tshirt_size  \n",
            "4              20.0                1     T-shirt         White           M  \n",
            "5              17.5                4     T-shirt         Black           F  \n",
            "12             23.0                3      Hoodie           NaN         NaN  \n",
            "13             20.0                3     T-shirt         White           M  \n",
            "15             17.5                1     T-shirt         Black           F  \n",
            "...             ...              ...         ...           ...         ...  \n",
            "26496          17.5                1     T-shirt         Black           F  \n",
            "26513          18.0                1     T-shirt         White           F  \n",
            "26515          23.0                1      Hoodie           NaN         NaN  \n",
            "26540          20.0                4     T-shirt         White           M  \n",
            "26548          20.0                1     T-shirt         White           M  \n",
            "\n",
            "[12619 rows x 10 columns]\n"
          ]
        }
      ]
    },
    {
      "cell_type": "markdown",
      "source": [
        "Zadanie 2 (4 pkt)\n",
        "\n",
        "\n",
        "Wgraj plik customers.csv do ramki danych. \n",
        "\n",
        "Następnie:\n",
        "1. Wypisz kolumny;\n",
        "2. Porównaj rozmiar ramki z rozmiarem ramki w zadaniu 1;\n",
        "3. Zmień nazwę kolumny customerID  na customer_id upewniając się, że dane zmiana zostanie zapisana w pamięci dzięki jednemu z argumentów metody do zmiany nazwy kolumny;\n",
        "4. Połącz ramkę orders z ramką customers po kolumnie customer_id. Z której metody skorzystasz? Zostaw odpowiedź w komentarzu do zadania w kodzie (np. blok komentarzem ‘’’ ‘’’).\n"
      ],
      "metadata": {
        "id": "g0QB8rtHtGhT"
      }
    },
    {
      "cell_type": "code",
      "source": [
        "#1\n",
        "df2 = pd.read_csv('customers.csv')\n",
        "\n",
        "print(df2.columns)"
      ],
      "metadata": {
        "id": "JpeQkJcjcIvc",
        "colab": {
          "base_uri": "https://localhost:8080/"
        },
        "outputId": "1616bd56-b6e2-425a-cdf1-23487eaa2d1f"
      },
      "execution_count": 44,
      "outputs": [
        {
          "output_type": "stream",
          "name": "stdout",
          "text": [
            "Index(['customerID', 'gender', 'birthdate', 'user_agent', 'ip_address',\n",
            "       'campaign'],\n",
            "      dtype='object')\n"
          ]
        }
      ]
    },
    {
      "cell_type": "code",
      "source": [
        "#2\n",
        "print(df.shape)\n",
        "print(df2.shape)"
      ],
      "metadata": {
        "colab": {
          "base_uri": "https://localhost:8080/"
        },
        "id": "6F3VMRIe0H0j",
        "outputId": "9e9fa6a3-0994-43d9-a6b1-04970954debd"
      },
      "execution_count": 46,
      "outputs": [
        {
          "output_type": "stream",
          "name": "stdout",
          "text": [
            "(26552, 10)\n",
            "(18766, 6)\n"
          ]
        }
      ]
    },
    {
      "cell_type": "code",
      "source": [
        "#3\n",
        "df2.rename(columns = {'customerID': 'customer_id'}, inplace = True)\n",
        "print(df2.columns)"
      ],
      "metadata": {
        "colab": {
          "base_uri": "https://localhost:8080/"
        },
        "id": "6uwcLUSJ1Zyn",
        "outputId": "3b028a50-43d9-4fbb-9fe3-a7905cd841ac"
      },
      "execution_count": 50,
      "outputs": [
        {
          "output_type": "stream",
          "name": "stdout",
          "text": [
            "Index(['customer_id', 'gender', 'birthdate', 'user_agent', 'ip_address',\n",
            "       'campaign'],\n",
            "      dtype='object')\n"
          ]
        }
      ]
    },
    {
      "cell_type": "code",
      "source": [
        "#4 - Odpowiednia metoda to merge z argumentem how='inner' zachowa się tak jak w przypadku SQL inner join\n",
        "\n",
        "df_cd = pd.merge(df, df2, how='inner', on = 'customer_id')\n",
        "\n",
        "df_cd.head()"
      ],
      "metadata": {
        "colab": {
          "base_uri": "https://localhost:8080/",
          "height": 565
        },
        "id": "ECnuwyua1-JM",
        "outputId": "bbb9bb21-bd82-455c-a91d-261a45efd597"
      },
      "execution_count": 54,
      "outputs": [
        {
          "output_type": "execute_result",
          "data": {
            "text/plain": [
              "  order_date  pages_visited         order_id customer_id  tshirt_category  \\\n",
              "0 2016-09-04              9  HTS-038040-0002      038040  White T-Shirt M   \n",
              "1 2014-06-04             13  HTS-038040-0001      038040  White T-Shirt F   \n",
              "2 2014-11-14             11  HTS-801797-0001      801797  White T-Shirt M   \n",
              "3 2015-10-22             12  HTS-801797-0002      801797  White T-Shirt M   \n",
              "4 2017-02-26             10  HTS-vft1eu-0003      vft1eu  White T-Shirt F   \n",
              "\n",
              "   tshirt_price  tshirt_quantity tshirt_type tshirt_colour tshirt_size gender  \\\n",
              "0          20.0                1     T-shirt         White           M      F   \n",
              "1          18.0                1     T-shirt         White           F      F   \n",
              "2          20.0                1     T-shirt         White           M      M   \n",
              "3          20.0                2     T-shirt         White           M      M   \n",
              "4          18.0                3     T-shirt         White           F      F   \n",
              "\n",
              "    birthdate                                         user_agent  \\\n",
              "0  1946/12/21  Mozilla/5.0 (Windows NT 10.0; WOW64) AppleWebK...   \n",
              "1  1946/12/21  Mozilla/5.0 (Windows NT 10.0; WOW64) AppleWebK...   \n",
              "2   1956/7/19  Mozilla/5.0 (Windows NT 10.0; Win64; x64) Appl...   \n",
              "3   1956/7/19  Mozilla/5.0 (Windows NT 10.0; Win64; x64) Appl...   \n",
              "4   1969/6/27  Mozilla/5.0 (Macintosh; Intel Mac OS X 10_12_3...   \n",
              "\n",
              "        ip_address  campaign  \n",
              "0    67.74.254.174     False  \n",
              "1    67.74.254.174     False  \n",
              "2  137.155.219.158     False  \n",
              "3  137.155.219.158     False  \n",
              "4     53.115.6.106      True  "
            ],
            "text/html": [
              "\n",
              "  <div id=\"df-29af49ee-8c63-4011-b4ff-46f1c1cd0a69\">\n",
              "    <div class=\"colab-df-container\">\n",
              "      <div>\n",
              "<style scoped>\n",
              "    .dataframe tbody tr th:only-of-type {\n",
              "        vertical-align: middle;\n",
              "    }\n",
              "\n",
              "    .dataframe tbody tr th {\n",
              "        vertical-align: top;\n",
              "    }\n",
              "\n",
              "    .dataframe thead th {\n",
              "        text-align: right;\n",
              "    }\n",
              "</style>\n",
              "<table border=\"1\" class=\"dataframe\">\n",
              "  <thead>\n",
              "    <tr style=\"text-align: right;\">\n",
              "      <th></th>\n",
              "      <th>order_date</th>\n",
              "      <th>pages_visited</th>\n",
              "      <th>order_id</th>\n",
              "      <th>customer_id</th>\n",
              "      <th>tshirt_category</th>\n",
              "      <th>tshirt_price</th>\n",
              "      <th>tshirt_quantity</th>\n",
              "      <th>tshirt_type</th>\n",
              "      <th>tshirt_colour</th>\n",
              "      <th>tshirt_size</th>\n",
              "      <th>gender</th>\n",
              "      <th>birthdate</th>\n",
              "      <th>user_agent</th>\n",
              "      <th>ip_address</th>\n",
              "      <th>campaign</th>\n",
              "    </tr>\n",
              "  </thead>\n",
              "  <tbody>\n",
              "    <tr>\n",
              "      <th>0</th>\n",
              "      <td>2016-09-04</td>\n",
              "      <td>9</td>\n",
              "      <td>HTS-038040-0002</td>\n",
              "      <td>038040</td>\n",
              "      <td>White T-Shirt M</td>\n",
              "      <td>20.0</td>\n",
              "      <td>1</td>\n",
              "      <td>T-shirt</td>\n",
              "      <td>White</td>\n",
              "      <td>M</td>\n",
              "      <td>F</td>\n",
              "      <td>1946/12/21</td>\n",
              "      <td>Mozilla/5.0 (Windows NT 10.0; WOW64) AppleWebK...</td>\n",
              "      <td>67.74.254.174</td>\n",
              "      <td>False</td>\n",
              "    </tr>\n",
              "    <tr>\n",
              "      <th>1</th>\n",
              "      <td>2014-06-04</td>\n",
              "      <td>13</td>\n",
              "      <td>HTS-038040-0001</td>\n",
              "      <td>038040</td>\n",
              "      <td>White T-Shirt F</td>\n",
              "      <td>18.0</td>\n",
              "      <td>1</td>\n",
              "      <td>T-shirt</td>\n",
              "      <td>White</td>\n",
              "      <td>F</td>\n",
              "      <td>F</td>\n",
              "      <td>1946/12/21</td>\n",
              "      <td>Mozilla/5.0 (Windows NT 10.0; WOW64) AppleWebK...</td>\n",
              "      <td>67.74.254.174</td>\n",
              "      <td>False</td>\n",
              "    </tr>\n",
              "    <tr>\n",
              "      <th>2</th>\n",
              "      <td>2014-11-14</td>\n",
              "      <td>11</td>\n",
              "      <td>HTS-801797-0001</td>\n",
              "      <td>801797</td>\n",
              "      <td>White T-Shirt M</td>\n",
              "      <td>20.0</td>\n",
              "      <td>1</td>\n",
              "      <td>T-shirt</td>\n",
              "      <td>White</td>\n",
              "      <td>M</td>\n",
              "      <td>M</td>\n",
              "      <td>1956/7/19</td>\n",
              "      <td>Mozilla/5.0 (Windows NT 10.0; Win64; x64) Appl...</td>\n",
              "      <td>137.155.219.158</td>\n",
              "      <td>False</td>\n",
              "    </tr>\n",
              "    <tr>\n",
              "      <th>3</th>\n",
              "      <td>2015-10-22</td>\n",
              "      <td>12</td>\n",
              "      <td>HTS-801797-0002</td>\n",
              "      <td>801797</td>\n",
              "      <td>White T-Shirt M</td>\n",
              "      <td>20.0</td>\n",
              "      <td>2</td>\n",
              "      <td>T-shirt</td>\n",
              "      <td>White</td>\n",
              "      <td>M</td>\n",
              "      <td>M</td>\n",
              "      <td>1956/7/19</td>\n",
              "      <td>Mozilla/5.0 (Windows NT 10.0; Win64; x64) Appl...</td>\n",
              "      <td>137.155.219.158</td>\n",
              "      <td>False</td>\n",
              "    </tr>\n",
              "    <tr>\n",
              "      <th>4</th>\n",
              "      <td>2017-02-26</td>\n",
              "      <td>10</td>\n",
              "      <td>HTS-vft1eu-0003</td>\n",
              "      <td>vft1eu</td>\n",
              "      <td>White T-Shirt F</td>\n",
              "      <td>18.0</td>\n",
              "      <td>3</td>\n",
              "      <td>T-shirt</td>\n",
              "      <td>White</td>\n",
              "      <td>F</td>\n",
              "      <td>F</td>\n",
              "      <td>1969/6/27</td>\n",
              "      <td>Mozilla/5.0 (Macintosh; Intel Mac OS X 10_12_3...</td>\n",
              "      <td>53.115.6.106</td>\n",
              "      <td>True</td>\n",
              "    </tr>\n",
              "  </tbody>\n",
              "</table>\n",
              "</div>\n",
              "      <button class=\"colab-df-convert\" onclick=\"convertToInteractive('df-29af49ee-8c63-4011-b4ff-46f1c1cd0a69')\"\n",
              "              title=\"Convert this dataframe to an interactive table.\"\n",
              "              style=\"display:none;\">\n",
              "        \n",
              "  <svg xmlns=\"http://www.w3.org/2000/svg\" height=\"24px\"viewBox=\"0 0 24 24\"\n",
              "       width=\"24px\">\n",
              "    <path d=\"M0 0h24v24H0V0z\" fill=\"none\"/>\n",
              "    <path d=\"M18.56 5.44l.94 2.06.94-2.06 2.06-.94-2.06-.94-.94-2.06-.94 2.06-2.06.94zm-11 1L8.5 8.5l.94-2.06 2.06-.94-2.06-.94L8.5 2.5l-.94 2.06-2.06.94zm10 10l.94 2.06.94-2.06 2.06-.94-2.06-.94-.94-2.06-.94 2.06-2.06.94z\"/><path d=\"M17.41 7.96l-1.37-1.37c-.4-.4-.92-.59-1.43-.59-.52 0-1.04.2-1.43.59L10.3 9.45l-7.72 7.72c-.78.78-.78 2.05 0 2.83L4 21.41c.39.39.9.59 1.41.59.51 0 1.02-.2 1.41-.59l7.78-7.78 2.81-2.81c.8-.78.8-2.07 0-2.86zM5.41 20L4 18.59l7.72-7.72 1.47 1.35L5.41 20z\"/>\n",
              "  </svg>\n",
              "      </button>\n",
              "      \n",
              "  <style>\n",
              "    .colab-df-container {\n",
              "      display:flex;\n",
              "      flex-wrap:wrap;\n",
              "      gap: 12px;\n",
              "    }\n",
              "\n",
              "    .colab-df-convert {\n",
              "      background-color: #E8F0FE;\n",
              "      border: none;\n",
              "      border-radius: 50%;\n",
              "      cursor: pointer;\n",
              "      display: none;\n",
              "      fill: #1967D2;\n",
              "      height: 32px;\n",
              "      padding: 0 0 0 0;\n",
              "      width: 32px;\n",
              "    }\n",
              "\n",
              "    .colab-df-convert:hover {\n",
              "      background-color: #E2EBFA;\n",
              "      box-shadow: 0px 1px 2px rgba(60, 64, 67, 0.3), 0px 1px 3px 1px rgba(60, 64, 67, 0.15);\n",
              "      fill: #174EA6;\n",
              "    }\n",
              "\n",
              "    [theme=dark] .colab-df-convert {\n",
              "      background-color: #3B4455;\n",
              "      fill: #D2E3FC;\n",
              "    }\n",
              "\n",
              "    [theme=dark] .colab-df-convert:hover {\n",
              "      background-color: #434B5C;\n",
              "      box-shadow: 0px 1px 3px 1px rgba(0, 0, 0, 0.15);\n",
              "      filter: drop-shadow(0px 1px 2px rgba(0, 0, 0, 0.3));\n",
              "      fill: #FFFFFF;\n",
              "    }\n",
              "  </style>\n",
              "\n",
              "      <script>\n",
              "        const buttonEl =\n",
              "          document.querySelector('#df-29af49ee-8c63-4011-b4ff-46f1c1cd0a69 button.colab-df-convert');\n",
              "        buttonEl.style.display =\n",
              "          google.colab.kernel.accessAllowed ? 'block' : 'none';\n",
              "\n",
              "        async function convertToInteractive(key) {\n",
              "          const element = document.querySelector('#df-29af49ee-8c63-4011-b4ff-46f1c1cd0a69');\n",
              "          const dataTable =\n",
              "            await google.colab.kernel.invokeFunction('convertToInteractive',\n",
              "                                                     [key], {});\n",
              "          if (!dataTable) return;\n",
              "\n",
              "          const docLinkHtml = 'Like what you see? Visit the ' +\n",
              "            '<a target=\"_blank\" href=https://colab.research.google.com/notebooks/data_table.ipynb>data table notebook</a>'\n",
              "            + ' to learn more about interactive tables.';\n",
              "          element.innerHTML = '';\n",
              "          dataTable['output_type'] = 'display_data';\n",
              "          await google.colab.output.renderOutput(dataTable, element);\n",
              "          const docLink = document.createElement('div');\n",
              "          docLink.innerHTML = docLinkHtml;\n",
              "          element.appendChild(docLink);\n",
              "        }\n",
              "      </script>\n",
              "    </div>\n",
              "  </div>\n",
              "  "
            ]
          },
          "metadata": {},
          "execution_count": 54
        }
      ]
    },
    {
      "cell_type": "markdown",
      "source": [
        "Zadanie 3 (1 pkt)\n",
        "\n",
        "Nową ramkę (połączenie orders i customers) zapisz do pliku csv, ale zapisz bez kolumny z indeksem.\n"
      ],
      "metadata": {
        "id": "bCKqMqJQtR8s"
      }
    },
    {
      "cell_type": "code",
      "source": [
        "df_cd.to_csv(\"joined.csv\",index=False)"
      ],
      "metadata": {
        "id": "J2gA9RVStSTa"
      },
      "execution_count": 55,
      "outputs": []
    }
  ]
}